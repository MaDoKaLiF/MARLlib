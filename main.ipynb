{
 "cells": [
  {
   "cell_type": "code",
   "execution_count": null,
   "metadata": {},
   "outputs": [],
   "source": [
    "#현재 진행 해논것들?\n",
    "from marllib import marl\n",
    "from ray import tune\n",
    "'''\n",
    "maa2c\n",
    "'''\n",
    "def test_g11_maa2c_grid_lstm():\n",
    "    env = marl.make_env(environment_name=\"mpe\", map_name=\"simple_adversary\", force_coop=False)\n",
    "    algo = marl.algos.maa2c(hyperparam_source=\"mpe\", lr=tune.grid_search([0.0005, 0.001]))\n",
    "    model = marl.build_model(env, algo, {\"core_arch\": \"lstm\", \"encode_layer\": \"128-256\"})\n",
    "    algo.fit(env, model, stop={\"training_iteration\": 1000000}, share_policy=\"group\", checkpoint_end=False)\n",
    "\n",
    "def test_g11_maa2c_grid_lstm():\n",
    "    env = marl.make_env(environment_name=\"mpe\", map_name=\"simple_adversary\", force_coop=False)\n",
    "    algo = marl.algos.maa2c(hyperparam_source=\"mpe\")\n",
    "    model = marl.build_model(env, algo, {\"core_arch\": \"lstm\", \"encode_layer\": \"128-256\"})\n",
    "    algo.fit(env, model, stop={\"training_iteration\": 1000000}, share_policy=\"group\", checkpoint_end=False)\n",
    "    \n",
    "test_g11_maa2c_grid_lstm()"
   ]
  },
  {
   "cell_type": "code",
   "execution_count": 6,
   "metadata": {},
   "outputs": [
    {
     "name": "stderr",
     "output_type": "stream",
     "text": [
      "c:\\Users\\PC\\anaconda3\\envs\\marllib\\lib\\site-packages\\pettingzoo\\utils\\wrappers\\base.py:59: UserWarning: The `action_spaces` dictionary is deprecated. Use the `action_space` function instead.\n",
      "  warnings.warn(\"The `action_spaces` dictionary is deprecated. Use the `action_space` function instead.\")\n",
      "c:\\Users\\PC\\anaconda3\\envs\\marllib\\lib\\site-packages\\pettingzoo\\utils\\wrappers\\base.py:51: UserWarning: The `observation_spaces` dictionary is deprecated. Use the `observation_space` function instead.\n",
      "  warnings.warn(\"The `observation_spaces` dictionary is deprecated. Use the `observation_space` function instead.\")\n",
      "c:\\Users\\PC\\anaconda3\\envs\\marllib\\lib\\site-packages\\pettingzoo\\utils\\conversions.py:61: UserWarning: The `observation_spaces` dictionary is deprecated. Use the `observation_space` function instead.\n",
      "  warnings.warn(\"The `observation_spaces` dictionary is deprecated. Use the `observation_space` function instead.\")\n",
      "c:\\Users\\PC\\anaconda3\\envs\\marllib\\lib\\site-packages\\pettingzoo\\utils\\conversions.py:69: UserWarning: The `action_spaces` dictionary is deprecated. Use the `action_space` function instead.\n",
      "  warnings.warn(\"The `action_spaces` dictionary is deprecated. Use the `action_space` function instead.\")\n",
      "2024-04-11 01:02:56,524\tINFO worker.py:832 -- Calling ray.init() again after it has already been called.\n",
      "2024-04-11 01:02:56,527\tWARNING sample.py:401 -- DeprecationWarning: wrapping <function run_cc.<locals>.<lambda> at 0x00000256845DCAF0> with tune.function() is no longer needed\n",
      "2024-04-11 01:02:56,551\tWARNING callback.py:114 -- The TensorboardX logger cannot be instantiated because either TensorboardX or one of it's dependencies is not installed. Please make sure you have the latest version of TensorboardX installed: `pip install -U tensorboardx`\n"
     ]
    },
    {
     "name": "stdout",
     "output_type": "stream",
     "text": [
      "+--------------------+----------------+----------------------------------------------------------------------+----------------------------------------------+-------------------------------------+\n",
      "| Env_Name           | Check_Status   | Error_Log                                                            | Config_File_Location                         | Env_File_Location                   |\n",
      "+====================+================+======================================================================+==============================================+=====================================+\n",
      "| gymnasium_mamujoco | Error          | No module named 'gymnasium_robotics'                                 | envs/base_env/config/gymnasium_mamujoco.yaml | envs/base_env/gymnasium_mamujoco.py |\n",
      "+--------------------+----------------+----------------------------------------------------------------------+----------------------------------------------+-------------------------------------+\n",
      "| mpe                | Ready          | Null                                                                 | envs/base_env/config/mpe.yaml                | envs/base_env/mpe.py                |\n",
      "+--------------------+----------------+----------------------------------------------------------------------+----------------------------------------------+-------------------------------------+\n",
      "| gymnasium_mpe      | Error          | cannot import name 'simple_adversary_v3' from 'pettingzoo.mpe'       | envs/base_env/config/gymnasium_mpe.yaml      | envs/base_env/gymnasium_mpe.py      |\n",
      "+--------------------+----------------+----------------------------------------------------------------------+----------------------------------------------+-------------------------------------+\n",
      "| mamujoco           | Error          | No module named 'multiagent_mujoco'                                  | envs/base_env/config/mamujoco.yaml           | envs/base_env/mamujoco.py           |\n",
      "+--------------------+----------------+----------------------------------------------------------------------+----------------------------------------------+-------------------------------------+\n",
      "| smac               | Error          | No module named 'smac'                                               | envs/base_env/config/smac.yaml               | envs/base_env/smac.py               |\n",
      "+--------------------+----------------+----------------------------------------------------------------------+----------------------------------------------+-------------------------------------+\n",
      "| football           | Error          | No module named 'gfootball'                                          | envs/base_env/config/football.yaml           | envs/base_env/football.py           |\n",
      "+--------------------+----------------+----------------------------------------------------------------------+----------------------------------------------+-------------------------------------+\n",
      "| magent             | Error          | cannot import name 'adversarial_pursuit_v3' from 'pettingzoo.magent' | envs/base_env/config/magent.yaml             | envs/base_env/magent.py             |\n",
      "+--------------------+----------------+----------------------------------------------------------------------+----------------------------------------------+-------------------------------------+\n",
      "| rware              | Error          | No module named 'rware'                                              | envs/base_env/config/rware.yaml              | envs/base_env/rware.py              |\n",
      "+--------------------+----------------+----------------------------------------------------------------------+----------------------------------------------+-------------------------------------+\n",
      "| lbf                | Error          | No module named 'lbforaging'                                         | envs/base_env/config/lbf.yaml                | envs/base_env/lbf.py                |\n",
      "+--------------------+----------------+----------------------------------------------------------------------+----------------------------------------------+-------------------------------------+\n",
      "| pommerman          | Error          | No module named 'pommerman'                                          | envs/base_env/config/pommerman.yaml          | envs/base_env/pommerman.py          |\n",
      "+--------------------+----------------+----------------------------------------------------------------------+----------------------------------------------+-------------------------------------+\n",
      "| hanabi             | Ready          | Null                                                                 | envs/base_env/config/hanabi.yaml             | envs/base_env/hanabi.py             |\n",
      "+--------------------+----------------+----------------------------------------------------------------------+----------------------------------------------+-------------------------------------+\n",
      "| metadrive          | Error          | No module named 'metadrive'                                          | envs/base_env/config/metadrive.yaml          | envs/base_env/metadrive.py          |\n",
      "+--------------------+----------------+----------------------------------------------------------------------+----------------------------------------------+-------------------------------------+\n",
      "| mate               | Error          | No module named 'mate'                                               | envs/base_env/config/mate.yaml               | envs/base_env/mate.py               |\n",
      "+--------------------+----------------+----------------------------------------------------------------------+----------------------------------------------+-------------------------------------+\n",
      "| gobigger           | Error          | No module named 'gobigger'                                           | envs/base_env/config/gobigger.yaml           | envs/base_env/gobigger.py           |\n",
      "+--------------------+----------------+----------------------------------------------------------------------+----------------------------------------------+-------------------------------------+\n",
      "| overcooked         | Error          | No module named 'overcooked_ai_py'                                   | envs/base_env/config/overcooked.yaml         | envs/base_env/overcooked.py         |\n",
      "+--------------------+----------------+----------------------------------------------------------------------+----------------------------------------------+-------------------------------------+\n",
      "| voltage            | Error          | No module named 'pandapower'                                         | envs/base_env/config/voltage.yaml            | envs/base_env/voltage.py            |\n",
      "+--------------------+----------------+----------------------------------------------------------------------+----------------------------------------------+-------------------------------------+\n",
      "| aircombat          | Error          | No module named 'jsbsim'                                             | envs/base_env/config/aircombat.yaml          | envs/base_env/aircombat.py          |\n",
      "+--------------------+----------------+----------------------------------------------------------------------+----------------------------------------------+-------------------------------------+\n",
      "| hns                | Error          | No module named 'mujoco_worldgen'                                    | envs/base_env/config/hns.yaml                | envs/base_env/hns.py                |\n",
      "+--------------------+----------------+----------------------------------------------------------------------+----------------------------------------------+-------------------------------------+\n",
      "| sisl               | Error          | cannot import name 'multiwalker_v7' from 'pettingzoo.sisl'           | envs/base_env/config/sisl.yaml               | envs/base_env/sisl.py               |\n",
      "+--------------------+----------------+----------------------------------------------------------------------+----------------------------------------------+-------------------------------------+\n"
     ]
    },
    {
     "name": "stderr",
     "output_type": "stream",
     "text": [
      "2024-04-11 01:02:56,737\tWARNING deprecation.py:38 -- DeprecationWarning: `simple_optimizer` has been deprecated. This will raise an error in the future!\n"
     ]
    },
    {
     "name": "stdout",
     "output_type": "stream",
     "text": [
      ":task_name:bundle_reservation_check_func\n",
      ":actor_name:COMATrainer\n",
      ":actor_name:RolloutWorker\n"
     ]
    },
    {
     "name": "stderr",
     "output_type": "stream",
     "text": [
      "2024-04-11 01:02:57,027\tWARNING rollout_worker.py:578 -- You are running ray with `local_mode=True`, but have configured 1 GPUs to be used! In local mode, Policies are placed on the CPU and the `num_gpus` setting is ignored.\n",
      "2024-04-11 01:02:57,089\tWARNING trainer_template.py:185 -- `execution_plan` functions should accept `trainer`, `workers`, and `config` as args!\n",
      "2024-04-11 01:02:57,093\tWARNING deprecation.py:38 -- DeprecationWarning: `simple_optimizer` has been deprecated. This will raise an error in the future!\n",
      "c:\\Users\\PC\\anaconda3\\envs\\marllib\\lib\\site-packages\\pettingzoo\\utils\\wrappers\\base.py:59: UserWarning: The `action_spaces` dictionary is deprecated. Use the `action_space` function instead.\n",
      "  warnings.warn(\"The `action_spaces` dictionary is deprecated. Use the `action_space` function instead.\")\n",
      "c:\\Users\\PC\\anaconda3\\envs\\marllib\\lib\\site-packages\\pettingzoo\\utils\\wrappers\\base.py:51: UserWarning: The `observation_spaces` dictionary is deprecated. Use the `observation_space` function instead.\n",
      "  warnings.warn(\"The `observation_spaces` dictionary is deprecated. Use the `observation_space` function instead.\")\n",
      "c:\\Users\\PC\\anaconda3\\envs\\marllib\\lib\\site-packages\\pettingzoo\\utils\\conversions.py:61: UserWarning: The `observation_spaces` dictionary is deprecated. Use the `observation_space` function instead.\n",
      "  warnings.warn(\"The `observation_spaces` dictionary is deprecated. Use the `observation_space` function instead.\")\n",
      "c:\\Users\\PC\\anaconda3\\envs\\marllib\\lib\\site-packages\\pettingzoo\\utils\\conversions.py:69: UserWarning: The `action_spaces` dictionary is deprecated. Use the `action_space` function instead.\n",
      "  warnings.warn(\"The `action_spaces` dictionary is deprecated. Use the `action_space` function instead.\")\n",
      "2024-04-11 01:02:57,119\tWARNING rollout_worker.py:578 -- You are running ray with `local_mode=True`, but have configured 1 GPUs to be used! In local mode, Policies are placed on the CPU and the `num_gpus` setting is ignored.\n",
      "2024-04-11 01:02:57,206\tWARNING util.py:57 -- Install gputil for GPU system monitoring.\n"
     ]
    },
    {
     "name": "stdout",
     "output_type": "stream",
     "text": [
      ":actor_name:COMATrainer\n"
     ]
    },
    {
     "name": "stderr",
     "output_type": "stream",
     "text": [
      "2024-04-11 01:03:18,841\tWARNING util.py:165 -- The `start_trial` operation took 22.129 s, which may be a performance bottleneck.\n"
     ]
    },
    {
     "name": "stdout",
     "output_type": "stream",
     "text": [
      "== Status ==\n",
      "Current time: 2024-04-11 01:03:18 (running for 00:00:22.30)\n",
      "Memory usage on this node: 7.4/7.8 GiB: ***LOW MEMORY*** less than 10% of the memory on this node is available for use. This can cause unexpected crashes. Consider reducing the memory used by your application or reducing the Ray object store size by setting `object_store_memory` when calling `ray.init`.\n",
      "Using FIFO scheduling algorithm.\n",
      "Resources requested: 2.0/8 CPUs, 1.0/1 GPUs, 0.0/1.08 GiB heap, 0.0/0.54 GiB objects\n",
      "Result logdir: c:\\Users\\PC\\MARLlib\\exp_results\\coma_gru_simple_adversary\n",
      "Number of trials: 1/1 (1 RUNNING)\n",
      "\n",
      "\n",
      "== Status ==\n",
      "Current time: 2024-04-11 01:03:40 (running for 00:00:44.11)\n",
      "Memory usage on this node: 7.4/7.8 GiB: ***LOW MEMORY*** less than 10% of the memory on this node is available for use. This can cause unexpected crashes. Consider reducing the memory used by your application or reducing the Ray object store size by setting `object_store_memory` when calling `ray.init`.\n",
      "Using FIFO scheduling algorithm.\n",
      "Resources requested: 2.0/8 CPUs, 1.0/1 GPUs, 0.0/1.08 GiB heap, 0.0/0.54 GiB objects\n",
      "Result logdir: c:\\Users\\PC\\MARLlib\\exp_results\\coma_gru_simple_adversary\n",
      "Number of trials: 1/1 (1 RUNNING)\n",
      "\n",
      "\n"
     ]
    },
    {
     "name": "stderr",
     "output_type": "stream",
     "text": [
      "2024-04-11 01:04:00,311\tWARNING ray_trial_executor.py:768 -- Over the last 60 seconds, the Tune event loop has been backlogged processing new results. Consider increasing your period of result reporting to improve performance.\n"
     ]
    },
    {
     "name": "stdout",
     "output_type": "stream",
     "text": [
      "== Status ==\n",
      "Current time: 2024-04-11 01:04:00 (running for 00:01:03.74)\n",
      "Memory usage on this node: 7.3/7.8 GiB: ***LOW MEMORY*** less than 10% of the memory on this node is available for use. This can cause unexpected crashes. Consider reducing the memory used by your application or reducing the Ray object store size by setting `object_store_memory` when calling `ray.init`.\n",
      "Using FIFO scheduling algorithm.\n",
      "Resources requested: 2.0/8 CPUs, 1.0/1 GPUs, 0.0/1.08 GiB heap, 0.0/0.54 GiB objects\n",
      "Result logdir: c:\\Users\\PC\\MARLlib\\exp_results\\coma_gru_simple_adversary\n",
      "Number of trials: 1/1 (1 RUNNING)\n",
      "\n",
      "\n",
      "== Status ==\n",
      "Current time: 2024-04-11 01:04:17 (running for 00:01:21.28)\n",
      "Memory usage on this node: 7.3/7.8 GiB: ***LOW MEMORY*** less than 10% of the memory on this node is available for use. This can cause unexpected crashes. Consider reducing the memory used by your application or reducing the Ray object store size by setting `object_store_memory` when calling `ray.init`.\n",
      "Using FIFO scheduling algorithm.\n",
      "Resources requested: 2.0/8 CPUs, 1.0/1 GPUs, 0.0/1.08 GiB heap, 0.0/0.54 GiB objects\n",
      "Result logdir: c:\\Users\\PC\\MARLlib\\exp_results\\coma_gru_simple_adversary\n",
      "Number of trials: 1/1 (1 RUNNING)\n",
      "\n",
      "\n",
      "== Status ==\n",
      "Current time: 2024-04-11 01:04:36 (running for 00:01:39.67)\n",
      "Memory usage on this node: 7.4/7.8 GiB: ***LOW MEMORY*** less than 10% of the memory on this node is available for use. This can cause unexpected crashes. Consider reducing the memory used by your application or reducing the Ray object store size by setting `object_store_memory` when calling `ray.init`.\n",
      "Using FIFO scheduling algorithm.\n",
      "Resources requested: 2.0/8 CPUs, 1.0/1 GPUs, 0.0/1.08 GiB heap, 0.0/0.54 GiB objects\n",
      "Result logdir: c:\\Users\\PC\\MARLlib\\exp_results\\coma_gru_simple_adversary\n",
      "Number of trials: 1/1 (1 RUNNING)\n",
      "\n",
      "\n",
      "== Status ==\n",
      "Current time: 2024-04-11 01:04:53 (running for 00:01:57.32)\n",
      "Memory usage on this node: 7.3/7.8 GiB: ***LOW MEMORY*** less than 10% of the memory on this node is available for use. This can cause unexpected crashes. Consider reducing the memory used by your application or reducing the Ray object store size by setting `object_store_memory` when calling `ray.init`.\n",
      "Using FIFO scheduling algorithm.\n",
      "Resources requested: 2.0/8 CPUs, 1.0/1 GPUs, 0.0/1.08 GiB heap, 0.0/0.54 GiB objects\n",
      "Result logdir: c:\\Users\\PC\\MARLlib\\exp_results\\coma_gru_simple_adversary\n",
      "Number of trials: 1/1 (1 RUNNING)\n",
      "\n",
      "\n"
     ]
    },
    {
     "name": "stderr",
     "output_type": "stream",
     "text": [
      "2024-04-11 01:05:11,498\tWARNING ray_trial_executor.py:768 -- Over the last 60 seconds, the Tune event loop has been backlogged processing new results. Consider increasing your period of result reporting to improve performance.\n"
     ]
    },
    {
     "name": "stdout",
     "output_type": "stream",
     "text": [
      "== Status ==\n",
      "Current time: 2024-04-11 01:05:11 (running for 00:02:14.93)\n",
      "Memory usage on this node: 7.3/7.8 GiB: ***LOW MEMORY*** less than 10% of the memory on this node is available for use. This can cause unexpected crashes. Consider reducing the memory used by your application or reducing the Ray object store size by setting `object_store_memory` when calling `ray.init`.\n",
      "Using FIFO scheduling algorithm.\n",
      "Resources requested: 2.0/8 CPUs, 1.0/1 GPUs, 0.0/1.08 GiB heap, 0.0/0.54 GiB objects\n",
      "Result logdir: c:\\Users\\PC\\MARLlib\\exp_results\\coma_gru_simple_adversary\n",
      "Number of trials: 1/1 (1 RUNNING)\n",
      "\n",
      "\n",
      "== Status ==\n",
      "Current time: 2024-04-11 01:05:31 (running for 00:02:34.83)\n",
      "Memory usage on this node: 7.3/7.8 GiB: ***LOW MEMORY*** less than 10% of the memory on this node is available for use. This can cause unexpected crashes. Consider reducing the memory used by your application or reducing the Ray object store size by setting `object_store_memory` when calling `ray.init`.\n",
      "Using FIFO scheduling algorithm.\n",
      "Resources requested: 2.0/8 CPUs, 1.0/1 GPUs, 0.0/1.08 GiB heap, 0.0/0.54 GiB objects\n",
      "Result logdir: c:\\Users\\PC\\MARLlib\\exp_results\\coma_gru_simple_adversary\n",
      "Number of trials: 1/1 (1 RUNNING)\n",
      "\n",
      "\n",
      "== Status ==\n",
      "Current time: 2024-04-11 01:05:50 (running for 00:02:53.58)\n",
      "Memory usage on this node: 7.3/7.8 GiB: ***LOW MEMORY*** less than 10% of the memory on this node is available for use. This can cause unexpected crashes. Consider reducing the memory used by your application or reducing the Ray object store size by setting `object_store_memory` when calling `ray.init`.\n",
      "Using FIFO scheduling algorithm.\n",
      "Resources requested: 2.0/8 CPUs, 1.0/1 GPUs, 0.0/1.08 GiB heap, 0.0/0.54 GiB objects\n",
      "Result logdir: c:\\Users\\PC\\MARLlib\\exp_results\\coma_gru_simple_adversary\n",
      "Number of trials: 1/1 (1 RUNNING)\n",
      "\n",
      "\n",
      "== Status ==\n",
      "Current time: 2024-04-11 01:06:08 (running for 00:03:11.71)\n",
      "Memory usage on this node: 7.3/7.8 GiB: ***LOW MEMORY*** less than 10% of the memory on this node is available for use. This can cause unexpected crashes. Consider reducing the memory used by your application or reducing the Ray object store size by setting `object_store_memory` when calling `ray.init`.\n",
      "Using FIFO scheduling algorithm.\n",
      "Resources requested: 2.0/8 CPUs, 1.0/1 GPUs, 0.0/1.08 GiB heap, 0.0/0.54 GiB objects\n",
      "Result logdir: c:\\Users\\PC\\MARLlib\\exp_results\\coma_gru_simple_adversary\n",
      "Number of trials: 1/1 (1 RUNNING)\n",
      "\n",
      "\n"
     ]
    },
    {
     "name": "stderr",
     "output_type": "stream",
     "text": [
      "2024-04-11 01:06:25,779\tWARNING ray_trial_executor.py:768 -- Over the last 60 seconds, the Tune event loop has been backlogged processing new results. Consider increasing your period of result reporting to improve performance.\n"
     ]
    },
    {
     "name": "stdout",
     "output_type": "stream",
     "text": [
      "== Status ==\n",
      "Current time: 2024-04-11 01:06:25 (running for 00:03:29.21)\n",
      "Memory usage on this node: 7.3/7.8 GiB: ***LOW MEMORY*** less than 10% of the memory on this node is available for use. This can cause unexpected crashes. Consider reducing the memory used by your application or reducing the Ray object store size by setting `object_store_memory` when calling `ray.init`.\n",
      "Using FIFO scheduling algorithm.\n",
      "Resources requested: 2.0/8 CPUs, 1.0/1 GPUs, 0.0/1.08 GiB heap, 0.0/0.54 GiB objects\n",
      "Result logdir: c:\\Users\\PC\\MARLlib\\exp_results\\coma_gru_simple_adversary\n",
      "Number of trials: 1/1 (1 RUNNING)\n",
      "\n",
      "\n",
      "== Status ==\n",
      "Current time: 2024-04-11 01:06:43 (running for 00:03:46.95)\n",
      "Memory usage on this node: 7.4/7.8 GiB: ***LOW MEMORY*** less than 10% of the memory on this node is available for use. This can cause unexpected crashes. Consider reducing the memory used by your application or reducing the Ray object store size by setting `object_store_memory` when calling `ray.init`.\n",
      "Using FIFO scheduling algorithm.\n",
      "Resources requested: 2.0/8 CPUs, 1.0/1 GPUs, 0.0/1.08 GiB heap, 0.0/0.54 GiB objects\n",
      "Result logdir: c:\\Users\\PC\\MARLlib\\exp_results\\coma_gru_simple_adversary\n",
      "Number of trials: 1/1 (1 RUNNING)\n",
      "\n",
      "\n",
      "== Status ==\n",
      "Current time: 2024-04-11 01:07:01 (running for 00:04:04.75)\n",
      "Memory usage on this node: 7.3/7.8 GiB: ***LOW MEMORY*** less than 10% of the memory on this node is available for use. This can cause unexpected crashes. Consider reducing the memory used by your application or reducing the Ray object store size by setting `object_store_memory` when calling `ray.init`.\n",
      "Using FIFO scheduling algorithm.\n",
      "Resources requested: 2.0/8 CPUs, 1.0/1 GPUs, 0.0/1.08 GiB heap, 0.0/0.54 GiB objects\n",
      "Result logdir: c:\\Users\\PC\\MARLlib\\exp_results\\coma_gru_simple_adversary\n",
      "Number of trials: 1/1 (1 RUNNING)\n",
      "\n",
      "\n",
      "== Status ==\n",
      "Current time: 2024-04-11 01:07:21 (running for 00:04:24.47)\n",
      "Memory usage on this node: 7.3/7.8 GiB: ***LOW MEMORY*** less than 10% of the memory on this node is available for use. This can cause unexpected crashes. Consider reducing the memory used by your application or reducing the Ray object store size by setting `object_store_memory` when calling `ray.init`.\n",
      "Using FIFO scheduling algorithm.\n",
      "Resources requested: 2.0/8 CPUs, 1.0/1 GPUs, 0.0/1.08 GiB heap, 0.0/0.54 GiB objects\n",
      "Result logdir: c:\\Users\\PC\\MARLlib\\exp_results\\coma_gru_simple_adversary\n",
      "Number of trials: 1/1 (1 RUNNING)\n",
      "\n",
      "\n"
     ]
    },
    {
     "name": "stderr",
     "output_type": "stream",
     "text": [
      "2024-04-11 01:07:39,030\tWARNING ray_trial_executor.py:768 -- Over the last 60 seconds, the Tune event loop has been backlogged processing new results. Consider increasing your period of result reporting to improve performance.\n"
     ]
    },
    {
     "name": "stdout",
     "output_type": "stream",
     "text": [
      "== Status ==\n",
      "Current time: 2024-04-11 01:07:39 (running for 00:04:42.46)\n",
      "Memory usage on this node: 7.4/7.8 GiB: ***LOW MEMORY*** less than 10% of the memory on this node is available for use. This can cause unexpected crashes. Consider reducing the memory used by your application or reducing the Ray object store size by setting `object_store_memory` when calling `ray.init`.\n",
      "Using FIFO scheduling algorithm.\n",
      "Resources requested: 2.0/8 CPUs, 1.0/1 GPUs, 0.0/1.08 GiB heap, 0.0/0.54 GiB objects\n",
      "Result logdir: c:\\Users\\PC\\MARLlib\\exp_results\\coma_gru_simple_adversary\n",
      "Number of trials: 1/1 (1 RUNNING)\n",
      "\n",
      "\n"
     ]
    },
    {
     "name": "stderr",
     "output_type": "stream",
     "text": [
      "2024-04-11 01:07:52,012\tERROR trial_runner.py:924 -- Trial COMATrainer_mpe_simple_adversary_cb9b1_00000: Error processing event.\n",
      "Traceback (most recent call last):\n",
      "  File \"c:\\Users\\PC\\anaconda3\\envs\\marllib\\lib\\site-packages\\ray\\tune\\trial_runner.py\", line 890, in _process_trial\n",
      "    results = self.trial_executor.fetch_result(trial)\n",
      "  File \"c:\\Users\\PC\\anaconda3\\envs\\marllib\\lib\\site-packages\\ray\\tune\\ray_trial_executor.py\", line 788, in fetch_result\n",
      "    result = ray.get(trial_future[0], timeout=DEFAULT_GET_TIMEOUT)\n",
      "  File \"c:\\Users\\PC\\anaconda3\\envs\\marllib\\lib\\site-packages\\ray\\_private\\client_mode_hook.py\", line 106, in wrapper\n",
      "    return func(*args, **kwargs)\n",
      "  File \"c:\\Users\\PC\\anaconda3\\envs\\marllib\\lib\\site-packages\\ray\\worker.py\", line 1625, in get\n",
      "    raise value.as_instanceof_cause()\n",
      "ray.exceptions.RayTaskError(RayOutOfMemoryError): \u001b[36mray::COMATrainer.train_buffered()\u001b[39m (pid=10872, ip=127.0.0.1, repr=COMATrainer)\n",
      "  File \"python\\ray\\_raylet.pyx\", line 565, in ray._raylet.execute_task\n",
      "  File \"python\\ray\\_raylet.pyx\", line 569, in ray._raylet.execute_task\n",
      "  File \"python\\ray\\_raylet.pyx\", line 519, in ray._raylet.execute_task.function_executor\n",
      "  File \"c:\\Users\\PC\\anaconda3\\envs\\marllib\\lib\\site-packages\\ray\\_private\\function_manager.py\", line 576, in actor_method_executor\n",
      "    return method(__ray_actor, *args, **kwargs)\n",
      "  File \"c:\\Users\\PC\\anaconda3\\envs\\marllib\\lib\\site-packages\\ray\\util\\tracing\\tracing_helper.py\", line 451, in _resume_span\n",
      "    return method(self, *_args, **_kwargs)\n",
      "  File \"c:\\Users\\PC\\anaconda3\\envs\\marllib\\lib\\site-packages\\ray\\tune\\trainable.py\", line 224, in train_buffered\n",
      "    result = self.train()\n",
      "  File \"c:\\Users\\PC\\anaconda3\\envs\\marllib\\lib\\site-packages\\ray\\util\\tracing\\tracing_helper.py\", line 451, in _resume_span\n",
      "    return method(self, *_args, **_kwargs)\n",
      "  File \"c:\\Users\\PC\\anaconda3\\envs\\marllib\\lib\\site-packages\\ray\\rllib\\agents\\trainer.py\", line 679, in train\n",
      "    raise e\n",
      "  File \"c:\\Users\\PC\\anaconda3\\envs\\marllib\\lib\\site-packages\\ray\\rllib\\agents\\trainer.py\", line 668, in train\n",
      "    result = Trainable.train(self)\n",
      "  File \"c:\\Users\\PC\\anaconda3\\envs\\marllib\\lib\\site-packages\\ray\\tune\\trainable.py\", line 283, in train\n",
      "    result = self.step()\n",
      "  File \"c:\\Users\\PC\\anaconda3\\envs\\marllib\\lib\\site-packages\\ray\\util\\tracing\\tracing_helper.py\", line 451, in _resume_span\n",
      "    return method(self, *_args, **_kwargs)\n",
      "  File \"c:\\Users\\PC\\anaconda3\\envs\\marllib\\lib\\site-packages\\ray\\rllib\\agents\\trainer_template.py\", line 206, in step\n",
      "    step_results = next(self.train_exec_impl)\n",
      "  File \"c:\\Users\\PC\\anaconda3\\envs\\marllib\\lib\\site-packages\\ray\\util\\iter.py\", line 756, in __next__\n",
      "    return next(self.built_iterator)\n",
      "  File \"c:\\Users\\PC\\anaconda3\\envs\\marllib\\lib\\site-packages\\ray\\util\\iter.py\", line 783, in apply_foreach\n",
      "    for item in it:\n",
      "  File \"c:\\Users\\PC\\anaconda3\\envs\\marllib\\lib\\site-packages\\ray\\util\\iter.py\", line 843, in apply_filter\n",
      "    for item in it:\n",
      "  File \"c:\\Users\\PC\\anaconda3\\envs\\marllib\\lib\\site-packages\\ray\\util\\iter.py\", line 843, in apply_filter\n",
      "    for item in it:\n",
      "  File \"c:\\Users\\PC\\anaconda3\\envs\\marllib\\lib\\site-packages\\ray\\util\\iter.py\", line 783, in apply_foreach\n",
      "    for item in it:\n",
      "  File \"c:\\Users\\PC\\anaconda3\\envs\\marllib\\lib\\site-packages\\ray\\util\\iter.py\", line 876, in apply_flatten\n",
      "    for item in it:\n",
      "  File \"c:\\Users\\PC\\anaconda3\\envs\\marllib\\lib\\site-packages\\ray\\util\\iter.py\", line 783, in apply_foreach\n",
      "    for item in it:\n",
      "  File \"c:\\Users\\PC\\anaconda3\\envs\\marllib\\lib\\site-packages\\ray\\util\\iter.py\", line 783, in apply_foreach\n",
      "    for item in it:\n",
      "  File \"c:\\Users\\PC\\anaconda3\\envs\\marllib\\lib\\site-packages\\ray\\util\\iter.py\", line 783, in apply_foreach\n",
      "    for item in it:\n",
      "  File \"c:\\Users\\PC\\anaconda3\\envs\\marllib\\lib\\site-packages\\ray\\util\\iter.py\", line 471, in base_iterator\n",
      "    yield ray.get(futures, timeout=timeout)\n",
      "  File \"c:\\Users\\PC\\anaconda3\\envs\\marllib\\lib\\site-packages\\ray\\_private\\client_mode_hook.py\", line 106, in wrapper\n",
      "    return func(*args, **kwargs)\n",
      "  File \"c:\\Users\\PC\\anaconda3\\envs\\marllib\\lib\\site-packages\\ray\\worker.py\", line 1625, in get\n",
      "    raise value.as_instanceof_cause()\n",
      "ray.exceptions.RayTaskError(RayOutOfMemoryError): \u001b[36mray::RolloutWorker.par_iter_next()\u001b[39m (pid=10872, ip=127.0.0.1, repr=<ray.rllib.evaluation.rollout_worker.modify_class.<locals>.Class object at 0x00000256F24144F0>)\n",
      "  File \"python\\ray\\_raylet.pyx\", line 526, in ray._raylet.execute_task\n",
      "  File \"c:\\Users\\PC\\anaconda3\\envs\\marllib\\lib\\site-packages\\ray\\_private\\memory_monitor.py\", line 150, in raise_if_low_memory\n",
      "    raise RayOutOfMemoryError(\n",
      "ray._private.memory_monitor.RayOutOfMemoryError: More than 95% of the memory on node DESKTOP-6P4N9VB is used (7.45 / 7.84 GB). The top 10 memory consumers are:\n",
      "\n",
      "PID\tMEM\tCOMMAND\n",
      "10872\t2.12GiB\tc:\\Users\\PC\\anaconda3\\envs\\marllib\\python.exe -m ipykernel_launcher --f=c:\\Users\\PC\\AppData\\Roaming\\\n",
      "14332\t0.36GiB\tC:\\Users\\PC\\AppData\\Local\\Programs\\Microsoft VS Code\\Code.exe c:\\Users\\PC\\.vscode\\extensions\\ms-pyth\n",
      "7936\t0.29GiB\tC:\\Users\\PC\\AppData\\Local\\Programs\\Microsoft VS Code\\Code.exe --type=renderer --user-data-dir=C:\\Use\n",
      "7988\t0.24GiB\tC:\\Program Files (x86)\\Google\\Chrome\\Application\\chrome.exe --type=renderer --no-appcompat-clear --l\n",
      "8580\t0.19GiB\tC:\\Program Files (x86)\\Google\\Chrome\\Application\\chrome.exe --type=renderer --no-appcompat-clear --l\n",
      "19868\t0.16GiB\tC:\\Program Files (x86)\\Google\\Chrome\\Application\\chrome.exe --flag-switches-begin --flag-switches-en\n",
      "6496\t0.15GiB\tC:\\Program Files (x86)\\Google\\Chrome\\Application\\chrome.exe --type=renderer --no-appcompat-clear --l\n",
      "8292\t0.15GiB\tC:\\Users\\PC\\AppData\\Local\\Programs\\Microsoft VS Code\\Code.exe --type=gpu-process --user-data-dir=C:\\\n",
      "9396\t0.14GiB\tC:\\Program Files (x86)\\Google\\Chrome\\Application\\chrome.exe --type=renderer --no-appcompat-clear --l\n",
      "10492\t0.13GiB\tC:\\Users\\PC\\AppData\\Local\\Programs\\Microsoft VS Code\\Code.exe --type=utility --utility-sub-type=node\n",
      "\n",
      "In addition, up to 0.0 GiB of shared memory is currently being used by the Ray object store.\n",
      "---\n",
      "--- Tip: Use the `ray memory` command to list active objects in the cluster.\n",
      "--- To disable OOM exceptions, set RAY_DISABLE_MEMORY_MONITOR=1.\n",
      "---\n"
     ]
    },
    {
     "name": "stdout",
     "output_type": "stream",
     "text": [
      "== Status ==\n",
      "Current time: 2024-04-11 01:07:52 (running for 00:04:55.44)\n",
      "Memory usage on this node: 7.5/7.8 GiB: ***LOW MEMORY*** less than 10% of the memory on this node is available for use. This can cause unexpected crashes. Consider reducing the memory used by your application or reducing the Ray object store size by setting `object_store_memory` when calling `ray.init`.\n",
      "Using FIFO scheduling algorithm.\n",
      "Resources requested: 2.0/8 CPUs, 1.0/1 GPUs, 0.0/1.08 GiB heap, 0.0/0.54 GiB objects\n",
      "Result logdir: c:\\Users\\PC\\MARLlib\\exp_results\\coma_gru_simple_adversary\n",
      "Number of trials: 1/1 (1 RUNNING)\n",
      "\n",
      "\n"
     ]
    },
    {
     "name": "stderr",
     "output_type": "stream",
     "text": [
      "2024-04-11 01:07:53,839\tWARNING util.py:165 -- The `process_trial` operation took 1.827 s, which may be a performance bottleneck.\n"
     ]
    },
    {
     "name": "stdout",
     "output_type": "stream",
     "text": [
      "== Status ==\n",
      "Current time: 2024-04-11 01:07:53 (running for 00:04:57.37)\n",
      "Memory usage on this node: 7.5/7.8 GiB: ***LOW MEMORY*** less than 10% of the memory on this node is available for use. This can cause unexpected crashes. Consider reducing the memory used by your application or reducing the Ray object store size by setting `object_store_memory` when calling `ray.init`.\n",
      "Using FIFO scheduling algorithm.\n",
      "Resources requested: 0/8 CPUs, 0/1 GPUs, 0.0/1.08 GiB heap, 0.0/0.54 GiB objects\n",
      "Result logdir: c:\\Users\\PC\\MARLlib\\exp_results\\coma_gru_simple_adversary\n",
      "Number of trials: 1/1 (1 ERROR)\n",
      "Number of errored trials: 1\n",
      "+----------------------------------------------+--------------+----------------------------------------------------------------------------------------------------------------------------------------+\n",
      "| Trial name                                   |   # failures | error file                                                                                                                             |\n",
      "|----------------------------------------------+--------------+----------------------------------------------------------------------------------------------------------------------------------------|\n",
      "| COMATrainer_mpe_simple_adversary_cb9b1_00000 |            1 | c:\\Users\\PC\\MARLlib\\exp_results\\coma_gru_simple_adversary\\COMATrainer_mpe_simple_adversary_cb9b1_00000_0_2024-04-11_01-02-56\\error.txt |\n",
      "+----------------------------------------------+--------------+----------------------------------------------------------------------------------------------------------------------------------------+\n",
      "\n"
     ]
    },
    {
     "ename": "TuneError",
     "evalue": "('Trials did not complete', [COMATrainer_mpe_simple_adversary_cb9b1_00000])",
     "output_type": "error",
     "traceback": [
      "\u001b[1;31m---------------------------------------------------------------------------\u001b[0m",
      "\u001b[1;31mTuneError\u001b[0m                                 Traceback (most recent call last)",
      "File \u001b[1;32m~\\AppData\\Local\\Temp\\ipykernel_10872\\3061527993.py:30\u001b[0m\n\u001b[0;32m     27\u001b[0m     model \u001b[38;5;241m=\u001b[39m marl\u001b[38;5;241m.\u001b[39mbuild_model(env, algo, {\u001b[38;5;124m\"\u001b[39m\u001b[38;5;124mcore_arch\u001b[39m\u001b[38;5;124m\"\u001b[39m: \u001b[38;5;124m\"\u001b[39m\u001b[38;5;124mgru\u001b[39m\u001b[38;5;124m\"\u001b[39m})\n\u001b[0;32m     28\u001b[0m     algo\u001b[38;5;241m.\u001b[39mfit(env, model, stop\u001b[38;5;241m=\u001b[39m{\u001b[38;5;124m\"\u001b[39m\u001b[38;5;124mtraining_iteration\u001b[39m\u001b[38;5;124m\"\u001b[39m: \u001b[38;5;241m10000\u001b[39m},  share_policy\u001b[38;5;241m=\u001b[39m\u001b[38;5;124m\"\u001b[39m\u001b[38;5;124mgroup\u001b[39m\u001b[38;5;124m\"\u001b[39m, checkpoint_end\u001b[38;5;241m=\u001b[39m\u001b[38;5;28;01mFalse\u001b[39;00m)\n\u001b[1;32m---> 30\u001b[0m \u001b[43mtest_g11_coma_mlp\u001b[49m\u001b[43m(\u001b[49m\u001b[43m)\u001b[49m   \n",
      "File \u001b[1;32m~\\AppData\\Local\\Temp\\ipykernel_10872\\3061527993.py:28\u001b[0m, in \u001b[0;36mtest_g11_coma_mlp\u001b[1;34m()\u001b[0m\n\u001b[0;32m     26\u001b[0m algo \u001b[38;5;241m=\u001b[39m marl\u001b[38;5;241m.\u001b[39malgos\u001b[38;5;241m.\u001b[39mcoma(hyperparam_source\u001b[38;5;241m=\u001b[39m\u001b[38;5;124m\"\u001b[39m\u001b[38;5;124mmpe\u001b[39m\u001b[38;5;124m\"\u001b[39m)\n\u001b[0;32m     27\u001b[0m model \u001b[38;5;241m=\u001b[39m marl\u001b[38;5;241m.\u001b[39mbuild_model(env, algo, {\u001b[38;5;124m\"\u001b[39m\u001b[38;5;124mcore_arch\u001b[39m\u001b[38;5;124m\"\u001b[39m: \u001b[38;5;124m\"\u001b[39m\u001b[38;5;124mgru\u001b[39m\u001b[38;5;124m\"\u001b[39m})\n\u001b[1;32m---> 28\u001b[0m \u001b[43malgo\u001b[49m\u001b[38;5;241;43m.\u001b[39;49m\u001b[43mfit\u001b[49m\u001b[43m(\u001b[49m\u001b[43menv\u001b[49m\u001b[43m,\u001b[49m\u001b[43m \u001b[49m\u001b[43mmodel\u001b[49m\u001b[43m,\u001b[49m\u001b[43m \u001b[49m\u001b[43mstop\u001b[49m\u001b[38;5;241;43m=\u001b[39;49m\u001b[43m{\u001b[49m\u001b[38;5;124;43m\"\u001b[39;49m\u001b[38;5;124;43mtraining_iteration\u001b[39;49m\u001b[38;5;124;43m\"\u001b[39;49m\u001b[43m:\u001b[49m\u001b[43m \u001b[49m\u001b[38;5;241;43m10000\u001b[39;49m\u001b[43m}\u001b[49m\u001b[43m,\u001b[49m\u001b[43m  \u001b[49m\u001b[43mshare_policy\u001b[49m\u001b[38;5;241;43m=\u001b[39;49m\u001b[38;5;124;43m\"\u001b[39;49m\u001b[38;5;124;43mgroup\u001b[39;49m\u001b[38;5;124;43m\"\u001b[39;49m\u001b[43m,\u001b[49m\u001b[43m \u001b[49m\u001b[43mcheckpoint_end\u001b[49m\u001b[38;5;241;43m=\u001b[39;49m\u001b[38;5;28;43;01mFalse\u001b[39;49;00m\u001b[43m)\u001b[49m\n",
      "File \u001b[1;32mc:\\Users\\PC\\MARLlib\\marllib\\marl\\__init__.py:316\u001b[0m, in \u001b[0;36m_Algo.fit\u001b[1;34m(self, env, model, stop, **running_params)\u001b[0m\n\u001b[0;32m    314\u001b[0m     \u001b[38;5;28;01mreturn\u001b[39;00m run_vd(\u001b[38;5;28mself\u001b[39m\u001b[38;5;241m.\u001b[39mconfig_dict, env_instance, model_class, stop\u001b[38;5;241m=\u001b[39mstop)\n\u001b[0;32m    315\u001b[0m \u001b[38;5;28;01melif\u001b[39;00m \u001b[38;5;28mself\u001b[39m\u001b[38;5;241m.\u001b[39malgo_type \u001b[38;5;241m==\u001b[39m \u001b[38;5;124m\"\u001b[39m\u001b[38;5;124mCC\u001b[39m\u001b[38;5;124m\"\u001b[39m:\n\u001b[1;32m--> 316\u001b[0m     \u001b[38;5;28;01mreturn\u001b[39;00m \u001b[43mrun_cc\u001b[49m\u001b[43m(\u001b[49m\u001b[38;5;28;43mself\u001b[39;49m\u001b[38;5;241;43m.\u001b[39;49m\u001b[43mconfig_dict\u001b[49m\u001b[43m,\u001b[49m\u001b[43m \u001b[49m\u001b[43menv_instance\u001b[49m\u001b[43m,\u001b[49m\u001b[43m \u001b[49m\u001b[43mmodel_class\u001b[49m\u001b[43m,\u001b[49m\u001b[43m \u001b[49m\u001b[43mstop\u001b[49m\u001b[38;5;241;43m=\u001b[39;49m\u001b[43mstop\u001b[49m\u001b[43m)\u001b[49m\n\u001b[0;32m    317\u001b[0m \u001b[38;5;28;01melse\u001b[39;00m:\n\u001b[0;32m    318\u001b[0m     \u001b[38;5;28;01mraise\u001b[39;00m \u001b[38;5;167;01mValueError\u001b[39;00m(\u001b[38;5;124m\"\u001b[39m\u001b[38;5;124mnot supported type \u001b[39m\u001b[38;5;132;01m{}\u001b[39;00m\u001b[38;5;124m\"\u001b[39m\u001b[38;5;241m.\u001b[39mformat(\u001b[38;5;28mself\u001b[39m\u001b[38;5;241m.\u001b[39malgo_type))\n",
      "File \u001b[1;32mc:\\Users\\PC\\MARLlib\\marllib\\marl\\algos\\run_cc.py:194\u001b[0m, in \u001b[0;36mrun_cc\u001b[1;34m(exp_info, env, model, stop)\u001b[0m\n\u001b[0;32m    188\u001b[0m exp_info, run_config, stop_config, restore_config \u001b[38;5;241m=\u001b[39m restore_config_update(exp_info, run_config, stop_config)\n\u001b[0;32m    190\u001b[0m \u001b[38;5;66;03m##################\u001b[39;00m\n\u001b[0;32m    191\u001b[0m \u001b[38;5;66;03m### run script ###\u001b[39;00m\n\u001b[0;32m    192\u001b[0m \u001b[38;5;66;03m##################\u001b[39;00m\n\u001b[1;32m--> 194\u001b[0m results \u001b[38;5;241m=\u001b[39m \u001b[43mPOlICY_REGISTRY\u001b[49m\u001b[43m[\u001b[49m\u001b[43mexp_info\u001b[49m\u001b[43m[\u001b[49m\u001b[38;5;124;43m\"\u001b[39;49m\u001b[38;5;124;43malgorithm\u001b[39;49m\u001b[38;5;124;43m\"\u001b[39;49m\u001b[43m]\u001b[49m\u001b[43m]\u001b[49m\u001b[43m(\u001b[49m\u001b[43mmodel\u001b[49m\u001b[43m,\u001b[49m\u001b[43m \u001b[49m\u001b[43mexp_info\u001b[49m\u001b[43m,\u001b[49m\u001b[43m \u001b[49m\u001b[43mrun_config\u001b[49m\u001b[43m,\u001b[49m\u001b[43m \u001b[49m\u001b[43menv_info\u001b[49m\u001b[43m,\u001b[49m\u001b[43m \u001b[49m\u001b[43mstop_config\u001b[49m\u001b[43m,\u001b[49m\n\u001b[0;32m    195\u001b[0m \u001b[43m                                                 \u001b[49m\u001b[43mrestore_config\u001b[49m\u001b[43m)\u001b[49m\n\u001b[0;32m    197\u001b[0m ray\u001b[38;5;241m.\u001b[39mshutdown()\n\u001b[0;32m    199\u001b[0m \u001b[38;5;28;01mreturn\u001b[39;00m results\n",
      "File \u001b[1;32mc:\\Users\\PC\\MARLlib\\marllib\\marl\\algos\\scripts\\coma.py:108\u001b[0m, in \u001b[0;36mrun_coma\u001b[1;34m(model, exp, run, env, stop, restore)\u001b[0m\n\u001b[0;32m    105\u001b[0m RUNNING_NAME \u001b[38;5;241m=\u001b[39m \u001b[38;5;124m'\u001b[39m\u001b[38;5;124m_\u001b[39m\u001b[38;5;124m'\u001b[39m\u001b[38;5;241m.\u001b[39mjoin([algorithm, arch, map_name])\n\u001b[0;32m    107\u001b[0m model_path \u001b[38;5;241m=\u001b[39m restore_model(restore, exp)\n\u001b[1;32m--> 108\u001b[0m results \u001b[38;5;241m=\u001b[39m \u001b[43mtune\u001b[49m\u001b[38;5;241;43m.\u001b[39;49m\u001b[43mrun\u001b[49m\u001b[43m(\u001b[49m\u001b[43mCOMATrainer\u001b[49m\u001b[43m,\u001b[49m\n\u001b[0;32m    109\u001b[0m \u001b[43m                   \u001b[49m\u001b[43mname\u001b[49m\u001b[38;5;241;43m=\u001b[39;49m\u001b[43mRUNNING_NAME\u001b[49m\u001b[43m,\u001b[49m\n\u001b[0;32m    110\u001b[0m \u001b[43m                   \u001b[49m\u001b[43mcheckpoint_at_end\u001b[49m\u001b[38;5;241;43m=\u001b[39;49m\u001b[43mexp\u001b[49m\u001b[43m[\u001b[49m\u001b[38;5;124;43m'\u001b[39;49m\u001b[38;5;124;43mcheckpoint_end\u001b[39;49m\u001b[38;5;124;43m'\u001b[39;49m\u001b[43m]\u001b[49m\u001b[43m,\u001b[49m\n\u001b[0;32m    111\u001b[0m \u001b[43m                   \u001b[49m\u001b[43mcheckpoint_freq\u001b[49m\u001b[38;5;241;43m=\u001b[39;49m\u001b[43mexp\u001b[49m\u001b[43m[\u001b[49m\u001b[38;5;124;43m'\u001b[39;49m\u001b[38;5;124;43mcheckpoint_freq\u001b[39;49m\u001b[38;5;124;43m'\u001b[39;49m\u001b[43m]\u001b[49m\u001b[43m,\u001b[49m\n\u001b[0;32m    112\u001b[0m \u001b[43m                   \u001b[49m\u001b[43mrestore\u001b[49m\u001b[38;5;241;43m=\u001b[39;49m\u001b[43mmodel_path\u001b[49m\u001b[43m,\u001b[49m\n\u001b[0;32m    113\u001b[0m \u001b[43m                   \u001b[49m\u001b[43mstop\u001b[49m\u001b[38;5;241;43m=\u001b[39;49m\u001b[43mstop\u001b[49m\u001b[43m,\u001b[49m\n\u001b[0;32m    114\u001b[0m \u001b[43m                   \u001b[49m\u001b[43mconfig\u001b[49m\u001b[38;5;241;43m=\u001b[39;49m\u001b[43mconfig\u001b[49m\u001b[43m,\u001b[49m\n\u001b[0;32m    115\u001b[0m \u001b[43m                   \u001b[49m\u001b[43mverbose\u001b[49m\u001b[38;5;241;43m=\u001b[39;49m\u001b[38;5;241;43m1\u001b[39;49m\u001b[43m,\u001b[49m\n\u001b[0;32m    116\u001b[0m \u001b[43m                   \u001b[49m\u001b[43mprogress_reporter\u001b[49m\u001b[38;5;241;43m=\u001b[39;49m\u001b[43mCLIReporter\u001b[49m\u001b[43m(\u001b[49m\u001b[43m)\u001b[49m\u001b[43m,\u001b[49m\n\u001b[0;32m    117\u001b[0m \u001b[43m                   \u001b[49m\u001b[43mlocal_dir\u001b[49m\u001b[38;5;241;43m=\u001b[39;49m\u001b[43mavailable_local_dir\u001b[49m\u001b[43m \u001b[49m\u001b[38;5;28;43;01mif\u001b[39;49;00m\u001b[43m \u001b[49m\u001b[43mexp\u001b[49m\u001b[43m[\u001b[49m\u001b[38;5;124;43m\"\u001b[39;49m\u001b[38;5;124;43mlocal_dir\u001b[39;49m\u001b[38;5;124;43m\"\u001b[39;49m\u001b[43m]\u001b[49m\u001b[43m \u001b[49m\u001b[38;5;241;43m==\u001b[39;49m\u001b[43m \u001b[49m\u001b[38;5;124;43m\"\u001b[39;49m\u001b[38;5;124;43m\"\u001b[39;49m\u001b[43m \u001b[49m\u001b[38;5;28;43;01melse\u001b[39;49;00m\u001b[43m \u001b[49m\u001b[43mexp\u001b[49m\u001b[43m[\u001b[49m\u001b[38;5;124;43m\"\u001b[39;49m\u001b[38;5;124;43mlocal_dir\u001b[39;49m\u001b[38;5;124;43m\"\u001b[39;49m\u001b[43m]\u001b[49m\u001b[43m)\u001b[49m\n\u001b[0;32m    119\u001b[0m \u001b[38;5;28;01mreturn\u001b[39;00m results\n",
      "File \u001b[1;32mc:\\Users\\PC\\anaconda3\\envs\\marllib\\lib\\site-packages\\ray\\tune\\tune.py:624\u001b[0m, in \u001b[0;36mrun\u001b[1;34m(run_or_experiment, name, metric, mode, stop, time_budget_s, config, resources_per_trial, num_samples, local_dir, search_alg, scheduler, keep_checkpoints_num, checkpoint_score_attr, checkpoint_freq, checkpoint_at_end, verbose, progress_reporter, log_to_file, trial_name_creator, trial_dirname_creator, sync_config, export_formats, max_failures, fail_fast, restore, server_port, resume, queue_trials, reuse_actors, trial_executor, raise_on_failed_trial, callbacks, max_concurrent_trials, loggers, _remote)\u001b[0m\n\u001b[0;32m    622\u001b[0m \u001b[38;5;28;01mif\u001b[39;00m incomplete_trials:\n\u001b[0;32m    623\u001b[0m     \u001b[38;5;28;01mif\u001b[39;00m raise_on_failed_trial \u001b[38;5;129;01mand\u001b[39;00m \u001b[38;5;129;01mnot\u001b[39;00m state[signal\u001b[38;5;241m.\u001b[39mSIGINT]:\n\u001b[1;32m--> 624\u001b[0m         \u001b[38;5;28;01mraise\u001b[39;00m TuneError(\u001b[38;5;124m\"\u001b[39m\u001b[38;5;124mTrials did not complete\u001b[39m\u001b[38;5;124m\"\u001b[39m, incomplete_trials)\n\u001b[0;32m    625\u001b[0m     \u001b[38;5;28;01melse\u001b[39;00m:\n\u001b[0;32m    626\u001b[0m         logger\u001b[38;5;241m.\u001b[39merror(\u001b[38;5;124m\"\u001b[39m\u001b[38;5;124mTrials did not complete: \u001b[39m\u001b[38;5;132;01m%s\u001b[39;00m\u001b[38;5;124m\"\u001b[39m, incomplete_trials)\n",
      "\u001b[1;31mTuneError\u001b[0m: ('Trials did not complete', [COMATrainer_mpe_simple_adversary_cb9b1_00000])"
     ]
    }
   ],
   "source": [
    "from marllib import marl\n",
    "from ray import tune\n",
    "'''\n",
    "coma \n",
    "'''\n",
    "def test_g11_coma_grid_mlp():\n",
    "    env = marl.make_env(environment_name=\"mpe\", map_name=\"simple_adversary\")\n",
    "    algo = marl.algos.coma(hyperparam_source=\"mpe\",lr=tune.grid_search([0.0005, 0.001]))\n",
    "    model = marl.build_model(env, algo, {\"core_arch\": \"mlp\"})\n",
    "    algo.fit(env, model, stop={\"training_iteration\": 10000}, share_policy=\"group\", checkpoint_end=False)\n",
    "\n",
    "def test_g11_coma_grid_mlp():\n",
    "    env = marl.make_env(environment_name=\"mpe\", map_name=\"simple_adversary\")\n",
    "    algo = marl.algos.coma(hyperparam_source=\"mpe\",lr=tune.grid_search([0.0005, 0.001]))\n",
    "    model = marl.build_model(env, algo, {\"core_arch\": \"gru\"})\n",
    "    algo.fit(env, model, stop={\"training_iteration\": 10000}, share_policy=\"group\", checkpoint_end=False)\n",
    "\n",
    "def test_g11_coma_mlp():\n",
    "    env = marl.make_env(environment_name=\"mpe\", map_name=\"simple_adversary\")\n",
    "    algo = marl.algos.coma(hyperparam_source=\"mpe\")\n",
    "    model = marl.build_model(env, algo, {\"core_arch\": \"mlp\"})\n",
    "    algo.fit(env, model, stop={\"training_iteration\": 10000}, share_policy=\"group\", checkpoint_end=False)\n",
    "\n",
    "def test_g11_coma_mlp():\n",
    "    env = marl.make_env(environment_name=\"mpe\", map_name=\"simple_adversary\")\n",
    "    algo = marl.algos.coma(hyperparam_source=\"mpe\")\n",
    "    model = marl.build_model(env, algo, {\"core_arch\": \"gru\"})\n",
    "    algo.fit(env, model, stop={\"training_iteration\": 10000},  share_policy=\"group\", checkpoint_end=False)\n",
    "\n",
    "test_g11_coma_mlp()   \n"
   ]
  },
  {
   "cell_type": "code",
   "execution_count": null,
   "metadata": {},
   "outputs": [
    {
     "name": "stdout",
     "output_type": "stream",
     "text": [
      "['c:\\\\Users\\\\PC\\\\anaconda3\\\\envs\\\\marllib\\\\lib\\\\site-packages\\\\ray\\\\thirdparty_files', 'c:\\\\Users\\\\PC\\\\anaconda3\\\\envs\\\\marllib\\\\lib\\\\site-packages\\\\ray\\\\pickle5_files', 'c:\\\\Users\\\\PC\\\\anaconda3\\\\envs\\\\marllib\\\\lib\\\\site-packages\\\\ray\\\\thirdparty_files', 'c:\\\\Users\\\\PC\\\\anaconda3\\\\envs\\\\marllib\\\\lib\\\\site-packages\\\\ray\\\\pickle5_files', 'c:\\\\Users\\\\PC\\\\anaconda3\\\\envs\\\\marllib\\\\lib\\\\site-packages\\\\ray\\\\thirdparty_files', 'c:\\\\Users\\\\PC\\\\anaconda3\\\\envs\\\\marllib\\\\lib\\\\site-packages\\\\ray\\\\pickle5_files', 'c:\\\\Users\\\\PC\\\\anaconda3\\\\envs\\\\marllib\\\\lib\\\\site-packages\\\\ray\\\\thirdparty_files', 'c:\\\\Users\\\\PC\\\\anaconda3\\\\envs\\\\marllib\\\\lib\\\\site-packages\\\\ray\\\\pickle5_files', 'c:\\\\Users\\\\PC\\\\anaconda3\\\\envs\\\\marllib\\\\lib\\\\site-packages\\\\ray\\\\thirdparty_files', 'c:\\\\Users\\\\PC\\\\anaconda3\\\\envs\\\\marllib\\\\lib\\\\site-packages\\\\ray\\\\pickle5_files', 'c:\\\\Users\\\\PC\\\\anaconda3\\\\envs\\\\marllib\\\\lib\\\\site-packages\\\\ray\\\\thirdparty_files', 'c:\\\\Users\\\\PC\\\\anaconda3\\\\envs\\\\marllib\\\\lib\\\\site-packages\\\\ray\\\\pickle5_files', 'c:\\\\Users\\\\PC\\\\anaconda3\\\\envs\\\\marllib\\\\lib\\\\site-packages\\\\ray\\\\thirdparty_files', 'c:\\\\Users\\\\PC\\\\anaconda3\\\\envs\\\\marllib\\\\lib\\\\site-packages\\\\ray\\\\pickle5_files', 'c:\\\\Users\\\\PC\\\\anaconda3\\\\envs\\\\marllib\\\\lib\\\\site-packages\\\\ray\\\\thirdparty_files', 'c:\\\\Users\\\\PC\\\\anaconda3\\\\envs\\\\marllib\\\\lib\\\\site-packages\\\\ray\\\\pickle5_files', 'c:\\\\Users\\\\PC\\\\anaconda3\\\\envs\\\\marllib\\\\lib\\\\site-packages\\\\ray\\\\thirdparty_files', 'c:\\\\Users\\\\PC\\\\anaconda3\\\\envs\\\\marllib\\\\lib\\\\site-packages\\\\ray\\\\pickle5_files', 'c:\\\\Users\\\\PC\\\\anaconda3\\\\envs\\\\marllib\\\\lib\\\\site-packages\\\\ray\\\\thirdparty_files', 'c:\\\\Users\\\\PC\\\\anaconda3\\\\envs\\\\marllib\\\\lib\\\\site-packages\\\\ray\\\\pickle5_files', 'c:\\\\Users\\\\PC\\\\anaconda3\\\\envs\\\\marllib\\\\lib\\\\site-packages\\\\ray\\\\thirdparty_files', 'c:\\\\Users\\\\PC\\\\anaconda3\\\\envs\\\\marllib\\\\lib\\\\site-packages\\\\ray\\\\pickle5_files', 'c:\\\\Users\\\\PC\\\\anaconda3\\\\envs\\\\marllib\\\\lib\\\\site-packages\\\\ray\\\\thirdparty_files', 'c:\\\\Users\\\\PC\\\\anaconda3\\\\envs\\\\marllib\\\\lib\\\\site-packages\\\\ray\\\\pickle5_files', 'c:\\\\Users\\\\PC\\\\anaconda3\\\\envs\\\\marllib\\\\lib\\\\site-packages\\\\ray\\\\thirdparty_files', 'c:\\\\Users\\\\PC\\\\anaconda3\\\\envs\\\\marllib\\\\lib\\\\site-packages\\\\ray\\\\pickle5_files', 'c:\\\\Users\\\\PC\\\\anaconda3\\\\envs\\\\marllib\\\\lib\\\\site-packages\\\\ray\\\\thirdparty_files', 'c:\\\\Users\\\\PC\\\\anaconda3\\\\envs\\\\marllib\\\\lib\\\\site-packages\\\\ray\\\\pickle5_files', 'c:\\\\Users\\\\PC\\\\anaconda3\\\\envs\\\\marllib\\\\lib\\\\site-packages\\\\ray\\\\thirdparty_files', 'c:\\\\Users\\\\PC\\\\anaconda3\\\\envs\\\\marllib\\\\lib\\\\site-packages\\\\ray\\\\pickle5_files', 'c:\\\\Users\\\\PC\\\\MARLlib', 'c:\\\\Users\\\\PC\\\\anaconda3\\\\envs\\\\marllib\\\\python38.zip', 'c:\\\\Users\\\\PC\\\\anaconda3\\\\envs\\\\marllib\\\\DLLs', 'c:\\\\Users\\\\PC\\\\anaconda3\\\\envs\\\\marllib\\\\lib', 'c:\\\\Users\\\\PC\\\\anaconda3\\\\envs\\\\marllib', '', 'C:\\\\Users\\\\PC\\\\AppData\\\\Roaming\\\\Python\\\\Python38\\\\site-packages', 'c:\\\\Users\\\\PC\\\\anaconda3\\\\envs\\\\marllib\\\\lib\\\\site-packages', 'c:\\\\Users\\\\PC\\\\anaconda3\\\\envs\\\\marllib\\\\lib\\\\site-packages\\\\win32', 'c:\\\\Users\\\\PC\\\\anaconda3\\\\envs\\\\marllib\\\\lib\\\\site-packages\\\\win32\\\\lib', 'c:\\\\Users\\\\PC\\\\anaconda3\\\\envs\\\\marllib\\\\lib\\\\site-packages\\\\Pythonwin']\n"
     ]
    },
    {
     "ename": "",
     "evalue": "",
     "output_type": "error",
     "traceback": [
      "\u001b[1;31m현재 셀 또는 이전 셀에서 코드를 실행하는 동안 Kernel이 충돌했습니다. \n",
      "\u001b[1;31m셀의 코드를 검토하여 가능한 오류 원인을 식별하세요. \n",
      "\u001b[1;31m자세한 내용을 보려면 <a href='https://aka.ms/vscodeJupyterKernelCrash'>여기</a>를 클릭하세요. \n",
      "\u001b[1;31m자세한 내용은 Jupyter <a href='command:jupyter.viewOutput'>로그</a>를 참조하세요."
     ]
    }
   ],
   "source": [
    "# from marllib import marl\n",
    "# from marllib.marl.ray import tune\n",
    "\n",
    "# # prepare env\n",
    "# env = marl.make_env(environment_name=\"mpe\", map_name=\"simple_spread\", force_coop=True)\n",
    "# # initialize algorithm with appointed hyper-parameters\n",
    "# hatrpo = marl.algos.hatrpo(hyperparam_source='mpe')\n",
    "\n",
    "# # build agent model based on env + algorithms + user preference\n",
    "# model = marl.build_model(env, hatrpo, {\"core_arch\": \"mlp\", \"encode_layer\": \"128-256\"})\n",
    "\n",
    "# # start training\n",
    "# hatrpo.fit(env, model, stop={'timesteps_total': 1000000}, share_policy='group')\n",
    "\n",
    "# #test alg\n",
    "# def test_a1_hatrpo(self):\n",
    "#     env = marl.make_env(environment_name=\"mpe\", map_name=\"simple_spread\", force_coop=True)\n",
    "#     algo = marl.algos.hatrpo(hyperparam_source=\"test\")\n",
    "#     model = marl.build_model(env, algo, {\"core_arch\": \"mlp\", \"encode_layer\": \"8-8\"})\n",
    "#     algo.fit(env, model, stop={\"training_iteration\": 1}, local_mode=True, num_gpus=0,\n",
    "#                 num_workers=2, share_policy=\"individual\", checkpoint_end=False)\n",
    "# #test env\n",
    "# def test_a1_mpe(self):\n",
    "#     env = marl.make_env(environment_name=\"mpe\", map_name=\"simple_spread\")\n",
    "#     algo = marl.algos.mappo(hyperparam_source=\"test\")\n",
    "#     model = marl.build_model(env, algo, {\"core_arch\": \"mlp\", \"encode_layer\": \"8-8\"})\n",
    "#     algo.fit(env, model, stop={\"training_iteration\": 1}, local_mode=True, num_gpus=0,\n",
    "#                 num_workers=2, share_policy=\"group\", checkpoint_end=False)   \n",
    "    \n",
    "# # test grid\n",
    "# def test_a1_hatrpo(self):  # search not success\n",
    "#     env = marl.make_env(environment_name=\"mpe\", map_name=\"simple_spread\", force_coop=True)\n",
    "#     algo = marl.algos.hatrpo(hyperparam_source=\"test\", critic_lr=tune.grid_search([0.0005, 0.001]))\n",
    "#     model = marl.build_model(env, algo, {\"core_arch\": \"mlp\", \"encode_layer\": \"8-8\"})\n",
    "#     algo.fit(env, model, stop={\"training_iteration\": 1}, local_mode=False, num_gpus=0,\n",
    "#                 num_workers=2, share_policy=\"individual\", checkpoint_end=False)\n",
    "# # test model\n",
    "# def test_a01_hatrpo_hacc_mlp(self):\n",
    "#     env = marl.make_env(environment_name=\"mpe\", map_name=\"simple_spread\", force_coop=True)\n",
    "#     algo = marl.algos.hatrpo(hyperparam_source=\"test\")\n",
    "#     model = marl.build_model(env, algo, {\"core_arch\": \"mlp\", \"encode_layer\": \"8-8\"})\n",
    "#     algo.fit(env, model, stop={\"training_iteration\": 1}, local_mode=True, num_gpus=0,\n",
    "#                 num_workers=2, share_policy=\"individual\", checkpoint_end=False)\n"
   ]
  },
  {
   "cell_type": "code",
   "execution_count": null,
   "metadata": {},
   "outputs": [],
   "source": []
  }
 ],
 "metadata": {
  "kernelspec": {
   "display_name": "marllib",
   "language": "python",
   "name": "python3"
  },
  "language_info": {
   "codemirror_mode": {
    "name": "ipython",
    "version": 3
   },
   "file_extension": ".py",
   "mimetype": "text/x-python",
   "name": "python",
   "nbconvert_exporter": "python",
   "pygments_lexer": "ipython3",
   "version": "3.8.19"
  }
 },
 "nbformat": 4,
 "nbformat_minor": 2
}
